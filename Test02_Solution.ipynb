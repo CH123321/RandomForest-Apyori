{
 "cells": [
  {
   "cell_type": "markdown",
   "metadata": {},
   "source": [
    "### 导入库以及Test2数据"
   ]
  },
  {
   "cell_type": "code",
   "execution_count": 1,
   "metadata": {},
   "outputs": [],
   "source": [
    "import pandas as pd  \n",
    "import numpy as np\n",
    "from apyori import apriori  "
   ]
  },
  {
   "cell_type": "code",
   "execution_count": 2,
   "metadata": {},
   "outputs": [
    {
     "name": "stdout",
     "output_type": "stream",
     "text": [
      "(1200, 671)\n"
     ]
    },
    {
     "data": {
      "text/html": [
       "<div>\n",
       "<style scoped>\n",
       "    .dataframe tbody tr th:only-of-type {\n",
       "        vertical-align: middle;\n",
       "    }\n",
       "\n",
       "    .dataframe tbody tr th {\n",
       "        vertical-align: top;\n",
       "    }\n",
       "\n",
       "    .dataframe thead th {\n",
       "        text-align: right;\n",
       "    }\n",
       "</style>\n",
       "<table border=\"1\" class=\"dataframe\">\n",
       "  <thead>\n",
       "    <tr style=\"text-align: right;\">\n",
       "      <th></th>\n",
       "      <th>VTYPE_1</th>\n",
       "      <th>VTYPE_2</th>\n",
       "      <th>VTYPE_3</th>\n",
       "      <th>VTYPE_4</th>\n",
       "      <th>VTYPE_5</th>\n",
       "      <th>VSEX_-</th>\n",
       "      <th>VSEX_F</th>\n",
       "      <th>VSEX_M</th>\n",
       "      <th>VAGE_1</th>\n",
       "      <th>VAGE_2</th>\n",
       "      <th>...</th>\n",
       "      <th>LIGHTING_B</th>\n",
       "      <th>LIGHTING_C</th>\n",
       "      <th>LIGHTING_D</th>\n",
       "      <th>LIGHTING_E</th>\n",
       "      <th>RIGHTWAY_-</th>\n",
       "      <th>RIGHTWAY_A</th>\n",
       "      <th>RIGHTWAY_B</th>\n",
       "      <th>RIGHTWAY_C</th>\n",
       "      <th>RIGHTWAY_D</th>\n",
       "      <th>Label</th>\n",
       "    </tr>\n",
       "  </thead>\n",
       "  <tbody>\n",
       "    <tr>\n",
       "      <th>0</th>\n",
       "      <td>0</td>\n",
       "      <td>1</td>\n",
       "      <td>0</td>\n",
       "      <td>0</td>\n",
       "      <td>0</td>\n",
       "      <td>0</td>\n",
       "      <td>1</td>\n",
       "      <td>0</td>\n",
       "      <td>1</td>\n",
       "      <td>0</td>\n",
       "      <td>...</td>\n",
       "      <td>0</td>\n",
       "      <td>0</td>\n",
       "      <td>0</td>\n",
       "      <td>0</td>\n",
       "      <td>0</td>\n",
       "      <td>1</td>\n",
       "      <td>0</td>\n",
       "      <td>0</td>\n",
       "      <td>0</td>\n",
       "      <td>False</td>\n",
       "    </tr>\n",
       "    <tr>\n",
       "      <th>1</th>\n",
       "      <td>0</td>\n",
       "      <td>0</td>\n",
       "      <td>1</td>\n",
       "      <td>0</td>\n",
       "      <td>0</td>\n",
       "      <td>0</td>\n",
       "      <td>0</td>\n",
       "      <td>1</td>\n",
       "      <td>0</td>\n",
       "      <td>0</td>\n",
       "      <td>...</td>\n",
       "      <td>0</td>\n",
       "      <td>0</td>\n",
       "      <td>0</td>\n",
       "      <td>0</td>\n",
       "      <td>0</td>\n",
       "      <td>1</td>\n",
       "      <td>0</td>\n",
       "      <td>0</td>\n",
       "      <td>0</td>\n",
       "      <td>True</td>\n",
       "    </tr>\n",
       "    <tr>\n",
       "      <th>2</th>\n",
       "      <td>0</td>\n",
       "      <td>1</td>\n",
       "      <td>0</td>\n",
       "      <td>0</td>\n",
       "      <td>0</td>\n",
       "      <td>0</td>\n",
       "      <td>0</td>\n",
       "      <td>1</td>\n",
       "      <td>0</td>\n",
       "      <td>0</td>\n",
       "      <td>...</td>\n",
       "      <td>0</td>\n",
       "      <td>0</td>\n",
       "      <td>0</td>\n",
       "      <td>0</td>\n",
       "      <td>0</td>\n",
       "      <td>1</td>\n",
       "      <td>0</td>\n",
       "      <td>0</td>\n",
       "      <td>0</td>\n",
       "      <td>False</td>\n",
       "    </tr>\n",
       "    <tr>\n",
       "      <th>3</th>\n",
       "      <td>0</td>\n",
       "      <td>1</td>\n",
       "      <td>0</td>\n",
       "      <td>0</td>\n",
       "      <td>0</td>\n",
       "      <td>0</td>\n",
       "      <td>0</td>\n",
       "      <td>1</td>\n",
       "      <td>0</td>\n",
       "      <td>0</td>\n",
       "      <td>...</td>\n",
       "      <td>0</td>\n",
       "      <td>0</td>\n",
       "      <td>0</td>\n",
       "      <td>0</td>\n",
       "      <td>0</td>\n",
       "      <td>1</td>\n",
       "      <td>0</td>\n",
       "      <td>0</td>\n",
       "      <td>0</td>\n",
       "      <td>False</td>\n",
       "    </tr>\n",
       "    <tr>\n",
       "      <th>4</th>\n",
       "      <td>0</td>\n",
       "      <td>1</td>\n",
       "      <td>0</td>\n",
       "      <td>0</td>\n",
       "      <td>0</td>\n",
       "      <td>0</td>\n",
       "      <td>1</td>\n",
       "      <td>0</td>\n",
       "      <td>1</td>\n",
       "      <td>0</td>\n",
       "      <td>...</td>\n",
       "      <td>0</td>\n",
       "      <td>1</td>\n",
       "      <td>0</td>\n",
       "      <td>0</td>\n",
       "      <td>0</td>\n",
       "      <td>1</td>\n",
       "      <td>0</td>\n",
       "      <td>0</td>\n",
       "      <td>0</td>\n",
       "      <td>False</td>\n",
       "    </tr>\n",
       "  </tbody>\n",
       "</table>\n",
       "<p>5 rows × 671 columns</p>\n",
       "</div>"
      ],
      "text/plain": [
       "   VTYPE_1  VTYPE_2  VTYPE_3  VTYPE_4  VTYPE_5  VSEX_-  VSEX_F  VSEX_M  \\\n",
       "0        0        1        0        0        0       0       1       0   \n",
       "1        0        0        1        0        0       0       0       1   \n",
       "2        0        1        0        0        0       0       0       1   \n",
       "3        0        1        0        0        0       0       0       1   \n",
       "4        0        1        0        0        0       0       1       0   \n",
       "\n",
       "   VAGE_1  VAGE_2  ...    LIGHTING_B  LIGHTING_C  LIGHTING_D  LIGHTING_E  \\\n",
       "0       1       0  ...             0           0           0           0   \n",
       "1       0       0  ...             0           0           0           0   \n",
       "2       0       0  ...             0           0           0           0   \n",
       "3       0       0  ...             0           0           0           0   \n",
       "4       1       0  ...             0           1           0           0   \n",
       "\n",
       "   RIGHTWAY_-  RIGHTWAY_A  RIGHTWAY_B  RIGHTWAY_C  RIGHTWAY_D  Label  \n",
       "0           0           1           0           0           0  False  \n",
       "1           0           1           0           0           0   True  \n",
       "2           0           1           0           0           0  False  \n",
       "3           0           1           0           0           0  False  \n",
       "4           0           1           0           0           0  False  \n",
       "\n",
       "[5 rows x 671 columns]"
      ]
     },
     "execution_count": 2,
     "metadata": {},
     "output_type": "execute_result"
    }
   ],
   "source": [
    "dataset = pd.read_csv(\"./src/Test2_data.csv\")\n",
    "print (dataset.shape)\n",
    "dataset.head()"
   ]
  },
  {
   "cell_type": "code",
   "execution_count": 3,
   "metadata": {},
   "outputs": [
    {
     "data": {
      "text/plain": [
       "Index(['VTYPE_1', 'VTYPE_2', 'VTYPE_3', 'VTYPE_4', 'VTYPE_5', 'VSEX_-',\n",
       "       'VSEX_F', 'VSEX_M', 'VAGE_1', 'VAGE_2',\n",
       "       ...\n",
       "       'LIGHTING_B', 'LIGHTING_C', 'LIGHTING_D', 'LIGHTING_E', 'RIGHTWAY_-',\n",
       "       'RIGHTWAY_A', 'RIGHTWAY_B', 'RIGHTWAY_C', 'RIGHTWAY_D', 'Label'],\n",
       "      dtype='object', length=671)"
      ]
     },
     "execution_count": 3,
     "metadata": {},
     "output_type": "execute_result"
    }
   ],
   "source": [
    "items = dataset.columns\n",
    "items"
   ]
  },
  {
   "cell_type": "code",
   "execution_count": 4,
   "metadata": {},
   "outputs": [
    {
     "data": {
      "text/plain": [
       "1200"
      ]
     },
     "execution_count": 4,
     "metadata": {},
     "output_type": "execute_result"
    }
   ],
   "source": [
    "length = len(dataset)\n",
    "length"
   ]
  },
  {
   "cell_type": "markdown",
   "metadata": {},
   "source": [
    "### 将dataframe 转化为2D Arrary"
   ]
  },
  {
   "cell_type": "code",
   "execution_count": 5,
   "metadata": {},
   "outputs": [],
   "source": [
    "D=[]\n",
    "for i in range(length):\n",
    "    # 只保留value为 1 或 True 的 item\n",
    "    tempTF = dataset.loc[i]==1\n",
    "    temp_transa = items[tempTF].tolist()\n",
    "    D.append(temp_transa)"
   ]
  },
  {
   "cell_type": "code",
   "execution_count": 6,
   "metadata": {},
   "outputs": [],
   "source": [
    "f = open(\"./output_q2/dataList.txt\",\"w\")\n",
    "for i in range(length):\n",
    "    f.write(\"%s\\n\" %D[i])\n",
    "f.close()"
   ]
  },
  {
   "cell_type": "markdown",
   "metadata": {},
   "source": [
    "### 使用apriori function获取 Rule"
   ]
  },
  {
   "cell_type": "code",
   "execution_count": 7,
   "metadata": {},
   "outputs": [],
   "source": [
    "# 获取 support>=0.1, confidence >= 0.7 的Rule, 最大长度为3\n",
    "association_rules = apriori(D, min_support=0.1, min_confidence=0.7,max_length =3) "
   ]
  },
  {
   "cell_type": "code",
   "execution_count": 8,
   "metadata": {},
   "outputs": [],
   "source": [
    "# 将iterator 转化为 list\n",
    "association_results=list(association_rules)"
   ]
  },
  {
   "cell_type": "code",
   "execution_count": 9,
   "metadata": {},
   "outputs": [],
   "source": [
    "# 筛选出 等式右侧为 \"Label\" 的 Rule\n",
    "ruleLen = len(association_results)\n",
    "# 将 Rule 中的 元素保存到 list中\n",
    "resultList=[]\n",
    "for i in range(ruleLen):\n",
    "    if association_results[i].ordered_statistics[0].items_add == frozenset(['Label']):\n",
    "        temp = list (association_results[i].ordered_statistics[0].items_base)\n",
    "        temp.append(\"Label\")\n",
    "        resultList.append( temp )"
   ]
  },
  {
   "cell_type": "markdown",
   "metadata": {},
   "source": [
    "## 输出 结果到 output_q2 文件夹下 的 output.txt"
   ]
  },
  {
   "cell_type": "code",
   "execution_count": 10,
   "metadata": {},
   "outputs": [],
   "source": [
    "f = open(\"./output_q2/output.txt\",\"w\")\n",
    "flag=0\n",
    "for rule in resultList:\n",
    "    if not flag:\n",
    "        if len(rule)>2:\n",
    "            flag=1\n",
    "    \n",
    "    if flag:\n",
    "        f.write(\"Rule:\\t{}, {} -> {}.\\n\".format(rule[0],rule[1], rule[2]))\n",
    "    else:\n",
    "        f.write(\"Rule:\\t{} -> {}.\\n\".format(rule[0],rule[1]))\n",
    "f.close()"
   ]
  },
  {
   "cell_type": "code",
   "execution_count": null,
   "metadata": {},
   "outputs": [],
   "source": []
  }
 ],
 "metadata": {
  "kernelspec": {
   "display_name": "Python 3",
   "language": "python",
   "name": "python3"
  },
  "language_info": {
   "codemirror_mode": {
    "name": "ipython",
    "version": 3
   },
   "file_extension": ".py",
   "mimetype": "text/x-python",
   "name": "python",
   "nbconvert_exporter": "python",
   "pygments_lexer": "ipython3",
   "version": "3.6.7"
  }
 },
 "nbformat": 4,
 "nbformat_minor": 2
}
